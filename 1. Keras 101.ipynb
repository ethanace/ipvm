{
 "cells": [
  {
   "cell_type": "markdown",
   "metadata": {},
   "source": [
    "## Machine learning\n",
    "\n",
    "Hard-coding vs fuzzy-coding. A->B->C vs \"learn your way to C\".\n",
    "\n",
    "Deterministic vs probabilistic.\n",
    "\n",
    "Websites/UX vs image classification.\n",
    "\n",
    "![UX](https://experience.sap.com/wp-content/uploads/2015/11/screen.png)\n",
    "\n",
    "![Images](https://upload.wikimedia.org/wikipedia/commons/thumb/3/31/Deer_in_Glenfinnan.jpg/1200px-Deer_in_Glenfinnan.jpg)"
   ]
  },
  {
   "cell_type": "markdown",
   "metadata": {},
   "source": [
    "## Shallow learning\n",
    "\n",
    "Basic ML. Stuff you learn in stats. \"Models\"\n",
    "\n",
    "- Linear/logistic regression\n",
    "- SVM\n",
    "- Bayes\n",
    "- DecisionTrees: GradientBoost, RandomForests, XGBoost\n",
    "- etc"
   ]
  },
  {
   "cell_type": "code",
   "execution_count": 57,
   "metadata": {},
   "outputs": [
    {
     "data": {
      "text/html": [
       "<div>\n",
       "<style scoped>\n",
       "    .dataframe tbody tr th:only-of-type {\n",
       "        vertical-align: middle;\n",
       "    }\n",
       "\n",
       "    .dataframe tbody tr th {\n",
       "        vertical-align: top;\n",
       "    }\n",
       "\n",
       "    .dataframe thead th {\n",
       "        text-align: right;\n",
       "    }\n",
       "</style>\n",
       "<table border=\"1\" class=\"dataframe\">\n",
       "  <thead>\n",
       "    <tr style=\"text-align: right;\">\n",
       "      <th></th>\n",
       "      <th>CRIM</th>\n",
       "      <th>ZN</th>\n",
       "      <th>INDUS</th>\n",
       "      <th>CHAS</th>\n",
       "      <th>NOX</th>\n",
       "      <th>RM</th>\n",
       "      <th>AGE</th>\n",
       "      <th>DIS</th>\n",
       "      <th>RAD</th>\n",
       "      <th>TAX</th>\n",
       "      <th>PTRATIO</th>\n",
       "      <th>B</th>\n",
       "      <th>LSTAT</th>\n",
       "      <th>PRICE</th>\n",
       "    </tr>\n",
       "  </thead>\n",
       "  <tbody>\n",
       "    <tr>\n",
       "      <th>501</th>\n",
       "      <td>0.06263</td>\n",
       "      <td>0.0</td>\n",
       "      <td>11.93</td>\n",
       "      <td>0.0</td>\n",
       "      <td>0.573</td>\n",
       "      <td>6.593</td>\n",
       "      <td>69.1</td>\n",
       "      <td>2.4786</td>\n",
       "      <td>1.0</td>\n",
       "      <td>273.0</td>\n",
       "      <td>21.0</td>\n",
       "      <td>391.99</td>\n",
       "      <td>9.67</td>\n",
       "      <td>22.4</td>\n",
       "    </tr>\n",
       "    <tr>\n",
       "      <th>502</th>\n",
       "      <td>0.04527</td>\n",
       "      <td>0.0</td>\n",
       "      <td>11.93</td>\n",
       "      <td>0.0</td>\n",
       "      <td>0.573</td>\n",
       "      <td>6.120</td>\n",
       "      <td>76.7</td>\n",
       "      <td>2.2875</td>\n",
       "      <td>1.0</td>\n",
       "      <td>273.0</td>\n",
       "      <td>21.0</td>\n",
       "      <td>396.90</td>\n",
       "      <td>9.08</td>\n",
       "      <td>20.6</td>\n",
       "    </tr>\n",
       "    <tr>\n",
       "      <th>503</th>\n",
       "      <td>0.06076</td>\n",
       "      <td>0.0</td>\n",
       "      <td>11.93</td>\n",
       "      <td>0.0</td>\n",
       "      <td>0.573</td>\n",
       "      <td>6.976</td>\n",
       "      <td>91.0</td>\n",
       "      <td>2.1675</td>\n",
       "      <td>1.0</td>\n",
       "      <td>273.0</td>\n",
       "      <td>21.0</td>\n",
       "      <td>396.90</td>\n",
       "      <td>5.64</td>\n",
       "      <td>23.9</td>\n",
       "    </tr>\n",
       "    <tr>\n",
       "      <th>504</th>\n",
       "      <td>0.10959</td>\n",
       "      <td>0.0</td>\n",
       "      <td>11.93</td>\n",
       "      <td>0.0</td>\n",
       "      <td>0.573</td>\n",
       "      <td>6.794</td>\n",
       "      <td>89.3</td>\n",
       "      <td>2.3889</td>\n",
       "      <td>1.0</td>\n",
       "      <td>273.0</td>\n",
       "      <td>21.0</td>\n",
       "      <td>393.45</td>\n",
       "      <td>6.48</td>\n",
       "      <td>22.0</td>\n",
       "    </tr>\n",
       "    <tr>\n",
       "      <th>505</th>\n",
       "      <td>0.04741</td>\n",
       "      <td>0.0</td>\n",
       "      <td>11.93</td>\n",
       "      <td>0.0</td>\n",
       "      <td>0.573</td>\n",
       "      <td>6.030</td>\n",
       "      <td>80.8</td>\n",
       "      <td>2.5050</td>\n",
       "      <td>1.0</td>\n",
       "      <td>273.0</td>\n",
       "      <td>21.0</td>\n",
       "      <td>396.90</td>\n",
       "      <td>7.88</td>\n",
       "      <td>11.9</td>\n",
       "    </tr>\n",
       "  </tbody>\n",
       "</table>\n",
       "</div>"
      ],
      "text/plain": [
       "        CRIM   ZN  INDUS  CHAS    NOX     RM   AGE     DIS  RAD    TAX  \\\n",
       "501  0.06263  0.0  11.93   0.0  0.573  6.593  69.1  2.4786  1.0  273.0   \n",
       "502  0.04527  0.0  11.93   0.0  0.573  6.120  76.7  2.2875  1.0  273.0   \n",
       "503  0.06076  0.0  11.93   0.0  0.573  6.976  91.0  2.1675  1.0  273.0   \n",
       "504  0.10959  0.0  11.93   0.0  0.573  6.794  89.3  2.3889  1.0  273.0   \n",
       "505  0.04741  0.0  11.93   0.0  0.573  6.030  80.8  2.5050  1.0  273.0   \n",
       "\n",
       "     PTRATIO       B  LSTAT  PRICE  \n",
       "501     21.0  391.99   9.67   22.4  \n",
       "502     21.0  396.90   9.08   20.6  \n",
       "503     21.0  396.90   5.64   23.9  \n",
       "504     21.0  393.45   6.48   22.0  \n",
       "505     21.0  396.90   7.88   11.9  "
      ]
     },
     "execution_count": 57,
     "metadata": {},
     "output_type": "execute_result"
    }
   ],
   "source": [
    "# http://scikit-learn.org/stable/index.html\n",
    "from sklearn.datasets import load_boston\n",
    "\n",
    "# Numpy(underlying storage) <= Pandas(Excel)\n",
    "# TODO drop numpy/pandas book here\n",
    "\n",
    "import pandas as pd\n",
    "boston = load_boston()\n",
    "boston_x = pd.DataFrame(boston.data, columns=boston.feature_names)\n",
    "boston_y = pd.DataFrame(boston.target, columns=['PRICE'])\n",
    "boston = pd.concat([boston_x, boston_y], 1)\n",
    "boston.tail()"
   ]
  },
  {
   "cell_type": "code",
   "execution_count": 22,
   "metadata": {},
   "outputs": [
    {
     "data": {
      "text/plain": [
       "<seaborn.axisgrid.FacetGrid at 0x1a2d7300f0>"
      ]
     },
     "execution_count": 22,
     "metadata": {},
     "output_type": "execute_result"
    },
    {
     "data": {
      "image/png": "[encoded data removed]",
      "text/plain": [
       "<Figure size 360x360 with 1 Axes>"
      ]
     },
     "metadata": {},
     "output_type": "display_data"
    }
   ],
   "source": [
    "%matplotlib inline\n",
    "import matplotlib\n",
    "import matplotlib.pyplot as plt\n",
    "import seaborn as sns\n",
    "\n",
    "sns.lmplot(x='DIS', y='PRICE', data=boston, fit_reg=True) "
   ]
  },
  {
   "cell_type": "code",
   "execution_count": 48,
   "metadata": {},
   "outputs": [
    {
     "data": {
      "text/plain": [
       "array([[14.04995796],\n",
       "       [19.25934662],\n",
       "       [21.47395357],\n",
       "       [18.61215842],\n",
       "       [20.64125446],\n",
       "       [23.98119752],\n",
       "       [22.8603563 ],\n",
       "       [28.19153078],\n",
       "       [26.66912492],\n",
       "       [22.85155026]])"
      ]
     },
     "execution_count": 48,
     "metadata": {},
     "output_type": "execute_result"
    }
   ],
   "source": [
    "from sklearn.linear_model import LinearRegression\n",
    "model = LinearRegression()\n",
    "model.fit(boston_x.iloc[:-10], boston_y.iloc[:-10])\n",
    "model.predict(boston_x.iloc[-10:])"
   ]
  },
  {
   "cell_type": "markdown",
   "metadata": {},
   "source": [
    "## Deep learning == Neural Networks\n",
    "\n",
    "Hierarchical machine learning (stacked logistic regression)\n",
    "\n",
    "![Face](https://encrypted-tbn0.gstatic.com/images?q=tbn:ANd9GcSBZhselQWAqZOZooyxDoQjYuBxucLKNISaLjeRIjsL74NgcTmYaw)\n",
    "\n",
    "![DNN](https://miro.medium.com/max/978/0*0mia7BQKjUAuXeqZ.jpeg)"
   ]
  },
  {
   "cell_type": "markdown",
   "metadata": {},
   "source": [
    "## Multi-layer Perceptron (MLP) / Feed-forward Network (FFN)\n",
    "\n",
    "(Above)\n",
    "\n",
    "## Recurrent Neural Network (RNN)\n",
    "\n",
    "Natural Language Processing (NLP)\n",
    "\n",
    "![RNN](http://colah.github.io/posts/2015-08-Understanding-LSTMs/img/RNN-unrolled.png)\n",
    "\n",
    "## Convolutional Neural Network (CNN)\n",
    "\n",
    "![DNN](https://cdn-images-1.medium.com/max/1600/1*NQQiyYqJJj4PSYAeWvxutg.png)\n",
    "\n",
    "Different CNN architectures: [cs231n](https://www.youtube.com/watch?v=DAOcjicFr1Y&t=4167s)"
   ]
  },
  {
   "cell_type": "markdown",
   "metadata": {},
   "source": [
    "---"
   ]
  },
  {
   "cell_type": "code",
   "execution_count": 33,
   "metadata": {},
   "outputs": [
    {
     "name": "stdout",
     "output_type": "stream",
     "text": [
      "Train on 101 samples, validate on 405 samples\n",
      "Epoch 1/10\n",
      "101/101 [==============================] - 0s 3ms/step - loss: 4426.4007 - val_loss: 7192.9544\n",
      "Epoch 2/10\n",
      "101/101 [==============================] - 0s 138us/step - loss: 4076.0829 - val_loss: 6652.7285\n",
      "Epoch 3/10\n",
      "101/101 [==============================] - 0s 156us/step - loss: 3755.3397 - val_loss: 6146.1760\n",
      "Epoch 4/10\n",
      "101/101 [==============================] - 0s 193us/step - loss: 3452.4951 - val_loss: 5678.0915\n",
      "Epoch 5/10\n",
      "101/101 [==============================] - 0s 214us/step - loss: 3170.8664 - val_loss: 5244.8509\n",
      "Epoch 6/10\n",
      "101/101 [==============================] - 0s 217us/step - loss: 2912.4037 - val_loss: 4845.2800\n",
      "Epoch 7/10\n",
      "101/101 [==============================] - 0s 198us/step - loss: 2676.9835 - val_loss: 4477.9912\n",
      "Epoch 8/10\n",
      "101/101 [==============================] - 0s 229us/step - loss: 2459.6739 - val_loss: 4140.5008\n",
      "Epoch 9/10\n",
      "101/101 [==============================] - 0s 197us/step - loss: 2259.8631 - val_loss: 3829.0635\n",
      "Epoch 10/10\n",
      "101/101 [==============================] - 0s 202us/step - loss: 2076.4071 - val_loss: 3546.5593\n"
     ]
    },
    {
     "data": {
      "text/plain": [
       "array([[79.3612  ],\n",
       "       [79.70069 ],\n",
       "       [80.0282  ],\n",
       "       [79.40884 ],\n",
       "       [79.24212 ],\n",
       "       [60.491524],\n",
       "       [60.259563],\n",
       "       [59.7219  ],\n",
       "       [59.58662 ],\n",
       "       [60.056942]], dtype=float32)"
      ]
     },
     "execution_count": 33,
     "metadata": {},
     "output_type": "execute_result"
    }
   ],
   "source": [
    "# DNN\n",
    "# tensorflow, caffe, torch => keras(tensorflow) torch\n",
    "from keras import backend as K\n",
    "import keras.models as M\n",
    "import keras.layers as L\n",
    "\n",
    "model = M.Sequential()  # => DNN\n",
    "model.add(L.Dense(4, activation='relu', input_dim=boston_x.shape[1]))\n",
    "model.add(L.Dense(4, activation='relu'))\n",
    "model.add(L.Dense(1))\n",
    "\n",
    "model.compile(optimizer='adam', loss='mse')\n",
    "\n",
    "# Train\n",
    "model.fit(boston_x, boston_y, epochs=10, batch_size=32, validation_split=.8)\n",
    "\n",
    "# Later: new data\n",
    "some_new_houses = boston_x.iloc[-10:].copy()\n",
    "model.predict(some_new_houses)"
   ]
  },
  {
   "cell_type": "markdown",
   "metadata": {},
   "source": [
    "## Parts from above\n",
    "\n",
    "- Model/Sequential\n",
    "- Layers, Activations\n",
    "  - Layers: Dense, Conv2D, LSTM, ...\n",
    "  - Activations: sigmoid, relu, tanh\n",
    "  - \"Final\" activations: none, softmax\n",
    "- Compile\n",
    "  - Optimizer: Adam, SGD, RMSProp, ...\n",
    "  - Loss: mean_squared_error, categorical_crossentropy, ...\n",
    "- model.fit\n",
    "  - X, y; validation_split\n",
    "  - epochs\n",
    "  - batch_size\n",
    " "
   ]
  },
  {
   "cell_type": "markdown",
   "metadata": {},
   "source": [
    "## Keras, TensorFlow, Torch, Caffe\n",
    "\n",
    "TensorFlow vs Torch (forget the rest). TF current winner\n",
    "Keras sits on TensorFlow; easier.\n",
    "\n",
    "Main resource: [Keras Guide to Sequential Model](https://keras.io/getting-started/sequential-model-guide/)\n",
    "\n",
    "Possible others (will look around):\n",
    "- [Develop Your First Neural Network in Python With Keras Step-By-Step](https://machinelearningmastery.com/tutorial-first-neural-network-python-keras/)\n",
    "- [Keras Tutorial: Deep Learning in Python](https://www.datacamp.com/community/tutorials/deep-learning-python)"
   ]
  },
  {
   "cell_type": "markdown",
   "metadata": {},
   "source": [
    "---\n",
    "\n",
    "## Vanilla CNN"
   ]
  },
  {
   "cell_type": "code",
   "execution_count": null,
   "metadata": {},
   "outputs": [],
   "source": [
    "import keras.optimizers as O\n",
    "\n",
    "# Doesn't work:\n",
    "model = M.Sequential()\n",
    "model.add(L.Conv2D(32, (3, 3)))\n",
    "model.add(L.MaxPooling2D(pool_size=(2, 2)))\n",
    "\n",
    "model.add(L.Conv2D(64, (3, 3)))\n",
    "model.add(L.MaxPooling2D(pool_size=(2, 2)))\n",
    "\n",
    "model.add(L.Flatten())\n",
    "model.add(L.Dense(256, activation='relu'))\n",
    "model.add(L.Dense(10, activation='softmax'))\n",
    "\n",
    "opt = O.Adam(lr=0.01)\n",
    "model.compile(loss='categorical_crossentropy', optimizer=opt)\n",
    "\n",
    "model.fit(x_train, y_train, batch_size=32, epochs=10)\n",
    "score = model.evaluate(x_test, y_test, batch_size=32)"
   ]
  },
  {
   "cell_type": "markdown",
   "metadata": {},
   "source": [
    "## Hypers\n",
    "- Layers: Cov2D, MaxPool, Flatten\n",
    "- LR, epochs, batch_size"
   ]
  },
  {
   "cell_type": "markdown",
   "metadata": {},
   "source": [
    "## Real CNN ([Keras Tutorial](https://github.com/keras-team/keras/blob/master/examples/mnist_cnn.py))"
   ]
  },
  {
   "cell_type": "code",
   "execution_count": 52,
   "metadata": {},
   "outputs": [
    {
     "name": "stdout",
     "output_type": "stream",
     "text": [
      "x_train shape: (60000, 28, 28, 1)\n",
      "60000 train samples\n",
      "10000 test samples\n"
     ]
    },
    {
     "data": {
      "image/png": "[encoded data removed]",
      "text/plain": [
       "<Figure size 432x288 with 9 Axes>"
      ]
     },
     "execution_count": 52,
     "metadata": {},
     "output_type": "execute_result"
    },
    {
     "data": {
      "image/png": "[encoded data removed]",
      "text/plain": [
       "<Figure size 432x288 with 9 Axes>"
      ]
     },
     "metadata": {},
     "output_type": "display_data"
    }
   ],
   "source": [
    "from keras.datasets import mnist\n",
    "\n",
    "batch_size = 128\n",
    "num_classes = 10\n",
    "epochs = 12\n",
    "\n",
    "# input image dimensions\n",
    "img_rows, img_cols = 28, 28\n",
    "\n",
    "# the data, split between train and test sets\n",
    "(x_train, y_train), (x_test, y_test) = mnist.load_data()\n",
    "\n",
    "if K.image_data_format() == 'channels_first':\n",
    "    x_train = x_train.reshape(x_train.shape[0], 1, img_rows, img_cols)\n",
    "    x_test = x_test.reshape(x_test.shape[0], 1, img_rows, img_cols)\n",
    "    input_shape = (1, img_rows, img_cols)\n",
    "else:\n",
    "    x_train = x_train.reshape(x_train.shape[0], img_rows, img_cols, 1)\n",
    "    x_test = x_test.reshape(x_test.shape[0], img_rows, img_cols, 1)\n",
    "    input_shape = (img_rows, img_cols, 1)\n",
    "\n",
    "x_train = x_train.astype('float32')\n",
    "x_test = x_test.astype('float32')\n",
    "x_train /= 255\n",
    "x_test /= 255\n",
    "print('x_train shape:', x_train.shape)\n",
    "print(x_train.shape[0], 'train samples')\n",
    "print(x_test.shape[0], 'test samples')\n",
    "\n",
    "fig = plt.figure()\n",
    "for i in range(9):\n",
    "  plt.subplot(3,3,i+1)\n",
    "  plt.tight_layout()\n",
    "  plt.imshow(X_train[i], cmap='gray', interpolation='none')\n",
    "  plt.title(\"Digit: {}\".format(y_train[i]))\n",
    "  plt.xticks([])\n",
    "  plt.yticks([])\n",
    "fig"
   ]
  },
  {
   "cell_type": "code",
   "execution_count": 46,
   "metadata": {},
   "outputs": [
    {
     "name": "stdout",
     "output_type": "stream",
     "text": [
      "Train on 60000 samples, validate on 10000 samples\n",
      "Epoch 1/12\n",
      "60000/60000 [==============================] - 101s 2ms/step - loss: 0.2593 - acc: 0.9191 - val_loss: 0.0524 - val_acc: 0.9840\n",
      "Epoch 2/12\n",
      "60000/60000 [==============================] - 99s 2ms/step - loss: 0.0870 - acc: 0.9741 - val_loss: 0.0375 - val_acc: 0.9872\n",
      "Epoch 3/12\n",
      "60000/60000 [==============================] - 99s 2ms/step - loss: 0.0669 - acc: 0.9801 - val_loss: 0.0383 - val_acc: 0.9867\n",
      "Epoch 4/12\n",
      "60000/60000 [==============================] - 99s 2ms/step - loss: 0.0540 - acc: 0.9838 - val_loss: 0.0327 - val_acc: 0.9883\n",
      "Epoch 5/12\n",
      "60000/60000 [==============================] - 99s 2ms/step - loss: 0.0472 - acc: 0.9865 - val_loss: 0.0308 - val_acc: 0.9892\n",
      "Epoch 6/12\n",
      "60000/60000 [==============================] - 100s 2ms/step - loss: 0.0429 - acc: 0.9875 - val_loss: 0.0316 - val_acc: 0.9895\n",
      "Epoch 7/12\n",
      "60000/60000 [==============================] - 99s 2ms/step - loss: 0.0387 - acc: 0.9884 - val_loss: 0.0264 - val_acc: 0.9913\n",
      "Epoch 8/12\n",
      "60000/60000 [==============================] - 99s 2ms/step - loss: 0.0342 - acc: 0.9893 - val_loss: 0.0268 - val_acc: 0.9910\n",
      "Epoch 9/12\n",
      "60000/60000 [==============================] - 99s 2ms/step - loss: 0.0309 - acc: 0.9906 - val_loss: 0.0345 - val_acc: 0.9884\n",
      "Epoch 10/12\n",
      "60000/60000 [==============================] - 98s 2ms/step - loss: 0.0286 - acc: 0.9912 - val_loss: 0.0281 - val_acc: 0.9913\n",
      "Epoch 11/12\n",
      "60000/60000 [==============================] - 98s 2ms/step - loss: 0.0273 - acc: 0.9914 - val_loss: 0.0277 - val_acc: 0.9913\n",
      "Epoch 12/12\n",
      "60000/60000 [==============================] - 98s 2ms/step - loss: 0.0265 - acc: 0.9920 - val_loss: 0.0265 - val_acc: 0.9920\n",
      "Test loss: 0.02652506345775155\n",
      "Test accuracy: 0.992\n"
     ]
    }
   ],
   "source": [
    "# convert class vectors to binary class matrices\n",
    "y_train = keras.utils.to_categorical(y_train, num_classes)\n",
    "y_test = keras.utils.to_categorical(y_test, num_classes)\n",
    "\n",
    "model = M.Sequential()\n",
    "model.add(L.Conv2D(32, kernel_size=(3, 3),\n",
    "                 activation='relu',\n",
    "                 input_shape=input_shape))\n",
    "model.add(L.Conv2D(64, (3, 3), activation='relu'))\n",
    "model.add(L.MaxPooling2D(pool_size=(2, 2)))\n",
    "model.add(L.Dropout(0.25))\n",
    "model.add(L.Flatten())\n",
    "model.add(L.Dense(128, activation='relu'))\n",
    "model.add(L.Dropout(0.5))\n",
    "model.add(L.Dense(num_classes, activation='softmax'))\n",
    "\n",
    "model.compile(loss='categorical_crossentropy',\n",
    "              optimizer=O.Adadelta(),\n",
    "              metrics=['accuracy'])\n",
    "\n",
    "model.fit(x_train, y_train,\n",
    "          batch_size=batch_size,\n",
    "          epochs=epochs,\n",
    "          verbose=1,\n",
    "          validation_data=(x_test, y_test))\n",
    "score = model.evaluate(x_test, y_test, verbose=0)\n",
    "print('Test loss:', score[0])\n",
    "print('Test accuracy:', score[1])"
   ]
  },
  {
   "cell_type": "markdown",
   "metadata": {},
   "source": [
    "## Hypers\n",
    "- Dropout\n",
    "- Activation functions\n",
    "\n",
    "![Act](https://www.kdnuggets.com/wp-content/uploads/activation.png)"
   ]
  },
  {
   "cell_type": "markdown",
   "metadata": {},
   "source": [
    "## Complex CNNs. VGG-net:"
   ]
  },
  {
   "cell_type": "code",
   "execution_count": 51,
   "metadata": {},
   "outputs": [
    {
     "name": "stdout",
     "output_type": "stream",
     "text": [
      "Epoch 1/10\n",
      "100/100 [==============================] - 4s 36ms/step - loss: 2.3425\n",
      "Epoch 2/10\n",
      "100/100 [==============================] - 3s 28ms/step - loss: 2.2988\n",
      "Epoch 3/10\n",
      "100/100 [==============================] - 3s 29ms/step - loss: 2.2976\n",
      "Epoch 4/10\n",
      "100/100 [==============================] - 3s 28ms/step - loss: 2.2610\n",
      "Epoch 5/10\n",
      "100/100 [==============================] - 3s 28ms/step - loss: 2.2935\n",
      "Epoch 6/10\n",
      "100/100 [==============================] - 3s 29ms/step - loss: 2.2941\n",
      "Epoch 7/10\n",
      "100/100 [==============================] - 3s 28ms/step - loss: 2.2708\n",
      "Epoch 8/10\n",
      "100/100 [==============================] - 3s 29ms/step - loss: 2.2834\n",
      "Epoch 9/10\n",
      "100/100 [==============================] - 3s 28ms/step - loss: 2.2813\n",
      "Epoch 10/10\n",
      "100/100 [==============================] - 3s 29ms/step - loss: 2.2556\n",
      "20/20 [==============================] - 0s 20ms/step\n"
     ]
    }
   ],
   "source": [
    "# https://keras.io/getting-started/sequential-model-guide/#vgg-like-convnet\n",
    "import numpy as np\n",
    "from keras.models import Sequential\n",
    "from keras.layers import Dense, Dropout, Flatten\n",
    "from keras.layers import Conv2D, MaxPooling2D\n",
    "from keras.optimizers import SGD\n",
    "\n",
    "# Generate dummy data\n",
    "x_train = np.random.random((100, 100, 100, 3))\n",
    "y_train = keras.utils.to_categorical(np.random.randint(10, size=(100, 1)), num_classes=10)\n",
    "x_test = np.random.random((20, 100, 100, 3))\n",
    "y_test = keras.utils.to_categorical(np.random.randint(10, size=(20, 1)), num_classes=10)\n",
    "\n",
    "model = Sequential()\n",
    "# input: 100x100 images with 3 channels -> (100, 100, 3) tensors.\n",
    "# this applies 32 convolution filters of size 3x3 each.\n",
    "model.add(Conv2D(32, (3, 3), activation='relu', input_shape=(100, 100, 3)))\n",
    "model.add(Conv2D(32, (3, 3), activation='relu'))\n",
    "model.add(MaxPooling2D(pool_size=(2, 2)))\n",
    "model.add(Dropout(0.25))\n",
    "\n",
    "model.add(Conv2D(64, (3, 3), activation='relu'))\n",
    "model.add(Conv2D(64, (3, 3), activation='relu'))\n",
    "model.add(MaxPooling2D(pool_size=(2, 2)))\n",
    "model.add(Dropout(0.25))\n",
    "\n",
    "model.add(Flatten())\n",
    "model.add(Dense(256, activation='relu'))\n",
    "model.add(Dropout(0.5))\n",
    "model.add(Dense(10, activation='softmax'))\n",
    "\n",
    "sgd = SGD(lr=0.01, decay=1e-6, momentum=0.9, nesterov=True)\n",
    "model.compile(loss='categorical_crossentropy', optimizer=sgd)\n",
    "\n",
    "model.fit(x_train, y_train, batch_size=32, epochs=10)\n",
    "score = model.evaluate(x_test, y_test, batch_size=32)"
   ]
  }
 ],
 "metadata": {
  "kernelspec": {
   "display_name": "Python 3",
   "language": "python",
   "name": "python3"
  },
  "language_info": {
   "codemirror_mode": {
    "name": "ipython",
    "version": 3
   },
   "file_extension": ".py",
   "mimetype": "text/x-python",
   "name": "python",
   "nbconvert_exporter": "python",
   "pygments_lexer": "ipython3",
   "version": "3.6.5"
  }
 },
 "nbformat": 4,
 "nbformat_minor": 2
}
